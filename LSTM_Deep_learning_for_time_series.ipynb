{
  "cells": [
    {
      "cell_type": "markdown",
      "metadata": {
        "id": "QVNVsLwJvV9S"
      },
      "source": [
        "In this project, we will use LSTM to build a neural network for time series forecasting.\n",
        "\n",
        "We will work on the problem of forecasting the number of international airline passengers.\n",
        "\n",
        "The task is to predict the number of international airline passengers in units of 1,000 based on a given year and month. The data spans the period from January 1949 to December 1960, covering 12 years with 144 observations.\n",
        "\n",
        "This is a regression problem. By knowing the number of passengers (in thousands) for the previous months, we can predict the number of passengers for the next month. The dataset has only one feature: “Number of Passengers” - Passengers."
      ]
    },
    {
      "cell_type": "code",
      "execution_count": null,
      "metadata": {},
      "outputs": [],
      "source": [
        "!pip install torch\n",
        "!pip install scikit-learn scipy matplotlib"
      ]
    },
    {
      "cell_type": "code",
      "execution_count": 8,
      "metadata": {},
      "outputs": [],
      "source": [
        "import torch\n",
        "from torch.utils.data import DataLoader, TensorDataset\n",
        "import torch.nn.functional as F\n",
        "from sklearn.metrics import mean_squared_error\n",
        "from  matplotlib import pyplot as plt"
      ]
    },
    {
      "cell_type": "code",
      "execution_count": 9,
      "metadata": {
        "colab": {
          "base_uri": "https://localhost:8080/",
          "height": 238
        },
        "id": "hw3dGYsyluYm",
        "outputId": "a3a3b30e-a1a9-4d28-dd1a-3e5b5e242206"
      },
      "outputs": [
        {
          "data": {
            "text/html": [
              "<div>\n",
              "<style scoped>\n",
              "    .dataframe tbody tr th:only-of-type {\n",
              "        vertical-align: middle;\n",
              "    }\n",
              "\n",
              "    .dataframe tbody tr th {\n",
              "        vertical-align: top;\n",
              "    }\n",
              "\n",
              "    .dataframe thead th {\n",
              "        text-align: right;\n",
              "    }\n",
              "</style>\n",
              "<table border=\"1\" class=\"dataframe\">\n",
              "  <thead>\n",
              "    <tr style=\"text-align: right;\">\n",
              "      <th></th>\n",
              "      <th>Passengers</th>\n",
              "    </tr>\n",
              "    <tr>\n",
              "      <th>Month</th>\n",
              "      <th></th>\n",
              "    </tr>\n",
              "  </thead>\n",
              "  <tbody>\n",
              "    <tr>\n",
              "      <th>1949-01</th>\n",
              "      <td>112</td>\n",
              "    </tr>\n",
              "    <tr>\n",
              "      <th>1949-02</th>\n",
              "      <td>118</td>\n",
              "    </tr>\n",
              "    <tr>\n",
              "      <th>1949-03</th>\n",
              "      <td>132</td>\n",
              "    </tr>\n",
              "    <tr>\n",
              "      <th>1949-04</th>\n",
              "      <td>129</td>\n",
              "    </tr>\n",
              "    <tr>\n",
              "      <th>1949-05</th>\n",
              "      <td>121</td>\n",
              "    </tr>\n",
              "  </tbody>\n",
              "</table>\n",
              "</div>"
            ],
            "text/plain": [
              "         Passengers\n",
              "Month              \n",
              "1949-01         112\n",
              "1949-02         118\n",
              "1949-03         132\n",
              "1949-04         129\n",
              "1949-05         121"
            ]
          },
          "metadata": {},
          "output_type": "display_data"
        }
      ],
      "source": [
        "import pandas as pd\n",
        "import numpy as np\n",
        "from matplotlib import pyplot as plt\n",
        "\n",
        "# Download data\n",
        "url = \"https://raw.githubusercontent.com/jbrownlee/Datasets/master/airline-passengers.csv\"\n",
        "df = pd.read_csv(url)\n",
        "df.set_index('Month', inplace=True)\n",
        "display(df.head())"
      ]
    },
    {
      "cell_type": "markdown",
      "metadata": {
        "id": "BCcNvF28wSH3"
      },
      "source": [
        "**Task 1.** Create a variable of type numpy.ndarray that contains the passenger count values in float32 format. This data format is necessary for training the neural network."
      ]
    },
    {
      "cell_type": "code",
      "execution_count": 10,
      "metadata": {
        "id": "7PcJkPAoBOH5"
      },
      "outputs": [
        {
          "name": "stdout",
          "output_type": "stream",
          "text": [
            "[112. 118. 132. 129. 121. 135. 148. 148. 136. 119. 104. 118. 115. 126.\n",
            " 141. 135. 125. 149. 170. 170. 158. 133. 114. 140. 145. 150. 178. 163.\n",
            " 172. 178. 199. 199. 184. 162. 146. 166. 171. 180. 193. 181. 183. 218.\n",
            " 230. 242. 209. 191. 172. 194. 196. 196. 236. 235. 229. 243. 264. 272.\n",
            " 237. 211. 180. 201. 204. 188. 235. 227. 234. 264. 302. 293. 259. 229.\n",
            " 203. 229. 242. 233. 267. 269. 270. 315. 364. 347. 312. 274. 237. 278.\n",
            " 284. 277. 317. 313. 318. 374. 413. 405. 355. 306. 271. 306. 315. 301.\n",
            " 356. 348. 355. 422. 465. 467. 404. 347. 305. 336. 340. 318. 362. 348.\n",
            " 363. 435. 491. 505. 404. 359. 310. 337. 360. 342. 406. 396. 420. 472.\n",
            " 548. 559. 463. 407. 362. 405. 417. 391. 419. 461. 472. 535. 622. 606.\n",
            " 508. 461. 390. 432.]\n"
          ]
        }
      ],
      "source": [
        "passengers = df.Passengers.astype('float32').to_numpy()\n",
        "print(passengers)"
      ]
    },
    {
      "cell_type": "markdown",
      "metadata": {
        "id": "vESTxq-OxLRK"
      },
      "source": [
        "**Task 2**. Splitештп the data into training and validation sets in a ratio of 67% for training and 33% for validation. We are working with time series data; therefore, we train on the older data and validate on the newer data."
      ]
    },
    {
      "cell_type": "code",
      "execution_count": 11,
      "metadata": {
        "id": "USpGte_tBPR1"
      },
      "outputs": [],
      "source": [
        "train_count = int(round(len(passengers)*0.67, 0))"
      ]
    },
    {
      "cell_type": "code",
      "execution_count": 12,
      "metadata": {},
      "outputs": [],
      "source": [
        "train = passengers[:train_count]\n",
        "test = passengers[train_count:]"
      ]
    },
    {
      "cell_type": "code",
      "execution_count": 13,
      "metadata": {},
      "outputs": [
        {
          "data": {
            "text/plain": [
              "(96, 48)"
            ]
          },
          "execution_count": 13,
          "metadata": {},
          "output_type": "execute_result"
        }
      ],
      "source": [
        "len(train), len(test)"
      ]
    },
    {
      "cell_type": "markdown",
      "metadata": {
        "id": "YB-e-vEDx3bn"
      },
      "source": [
        "**Task 3**.\n",
        "\n",
        "We will implement the create_dataset function, which will transform a one-dimensional time series (dataset) into a format suitable for training a neural network.\n",
        "\n",
        "The function takes two arguments:\n",
        "\n",
        "\t•\tdataset — a NumPy array representing the time series,\n",
        "\t•\tlookback — the number of previous steps that will be used for prediction.\n",
        "\n",
        "The function return3 two PyTorch tensors:\n",
        "\n",
        "\t•\tX — a feature set (the window of previous values),\n",
        "\t•\ty — the target values (the steps following the window).\n",
        "\n",
        "We will provide the data to the model in the following format::\n",
        "`\n",
        "tensor([[112.],\n",
        "        [118.],\n",
        "        [132.],\n",
        "        [129.],\n",
        "        [121.]])\n",
        "`\n",
        "In this case, the first dimension will represent the size of the input batch, and the second dimension will represent the size of the input data, which is 1 because there is only one value at the input each time.\n",
        "\n",
        "We will predict the number of passengers for the next day based on the number of passengers from the previous day, so `lookback == 1`."
      ]
    },
    {
      "cell_type": "code",
      "execution_count": 14,
      "metadata": {
        "id": "s5UXOiAHBVwe"
      },
      "outputs": [],
      "source": [
        "def create_dataset(dataset, lookback = 1):\n",
        "    # Initialize lists to hold the input sequences (X) and target values (y)\n",
        "    X, y = [], []\n",
        "    \n",
        "    # Loop over the dataset and create input sequences and corresponding targets\n",
        "    for i in range(len(dataset) - lookback):\n",
        "        X.append(dataset[i:(i + lookback)])\n",
        "        y.append(dataset[(i + 1):(i + lookback + 1)])\n",
        "    \n",
        "    # Convert X and y to PyTorch tensors\n",
        "    X = torch.tensor(np.array(X), dtype=torch.float32)\n",
        "    y = torch.tensor(np.array(y), dtype=torch.float32)\n",
        "    \n",
        "    return X, y"
      ]
    },
    {
      "cell_type": "code",
      "execution_count": 15,
      "metadata": {
        "colab": {
          "base_uri": "https://localhost:8080/"
        },
        "id": "dA8FwOfwuPyl",
        "outputId": "b4bd6a9a-f611-4f81-eceb-7c9e17c8dab6"
      },
      "outputs": [
        {
          "name": "stdout",
          "output_type": "stream",
          "text": [
            "torch.Size([95, 1]) torch.Size([95, 1])\n",
            "torch.Size([47, 1]) torch.Size([47, 1])\n"
          ]
        }
      ],
      "source": [
        "lookback = 1\n",
        "X_train, y_train = create_dataset(train, lookback=lookback)\n",
        "X_test, y_test = create_dataset(test, lookback=lookback)\n",
        "print(X_train.shape, y_train.shape)\n",
        "print(X_test.shape, y_test.shape)"
      ]
    },
    {
      "cell_type": "markdown",
      "metadata": {
        "id": "eeiFJ-jDznj5"
      },
      "source": [
        "**Завдання 4**.\n",
        "\n",
        "Using the  `torch.nn` we create class `AirModel`, which is a neural network for forecasting the number of passengers using LSTM.\n",
        "\n",
        "1. **The class constructor** takes parameters `hidden_size`, `num_layers` and initialize the layers:\n",
        "   - An LSTM layer with the following parameters:\n",
        "     - `input_size` — each point of the time series is a separate input,\n",
        "     - `hidden_size` — as specified in the class constructor,\n",
        "     - `num_layers=1` — the number of LSTM layers specified in the class constructor,\n",
        "     - `batch_first=True` — indicates that the first dimension is the batch size.\n",
        "   - A linear layer (`nn.Linear`) to transform the LSTM output into a forecast of a single point.\n",
        "\n",
        "2. **The forward method** performs the following actions:\n",
        "   - Passes the input tensor through the LSTM layer and obtain the outputs (ignoring the hidden states).\n",
        "   - Passes the LSTM output through the linear layer to get the final prediction.\n",
        "\n",
        "We will create an object of the `AirModel` class with the parameter values `hidden_size=50`, `num_layers=1` and test the model’s performance on the input tensor `tensor([[112.]])`. At this stage, we need to ensure that the model can generate predictions with randomly initialized weights."
      ]
    },
    {
      "cell_type": "code",
      "execution_count": 16,
      "metadata": {
        "id": "dcafrsmrDHsz"
      },
      "outputs": [],
      "source": [
        "class AirModel(torch.nn.Module):\n",
        "    def __init__(self, input_size, hidden_size, num_layers):\n",
        "        super(AirModel, self).__init__()\n",
        "        self.hidden_dim = hidden_size\n",
        "        self.layer_dim = num_layers\n",
        "        self.lstm = torch.nn.LSTM(input_size, hidden_size, num_layers, batch_first = True)\n",
        "        self.fc = torch.nn.Linear(hidden_size, 1)\n",
        "\n",
        "    def forward(self, x):\n",
        "        out, _ = self.lstm(x)\n",
        "        out = self.fc(out)\n",
        "        return out"
      ]
    },
    {
      "cell_type": "code",
      "execution_count": 17,
      "metadata": {},
      "outputs": [
        {
          "data": {
            "text/plain": [
              "tensor([[112.]])"
            ]
          },
          "execution_count": 17,
          "metadata": {},
          "output_type": "execute_result"
        }
      ],
      "source": [
        "air_model = AirModel(1, 50, 1)\n",
        "test_data = torch.tensor(np.array([112]), dtype=torch.float32).unsqueeze(1)\n",
        "test_data"
      ]
    },
    {
      "cell_type": "code",
      "execution_count": 18,
      "metadata": {},
      "outputs": [
        {
          "data": {
            "text/plain": [
              "tensor([[0.3227]], grad_fn=<AddmmBackward0>)"
            ]
          },
          "execution_count": 18,
          "metadata": {},
          "output_type": "execute_result"
        }
      ],
      "source": [
        "air_model(test_data)"
      ]
    },
    {
      "cell_type": "markdown",
      "metadata": {
        "id": "-R6zv9nu2tWB"
      },
      "source": [
        "**Task 5**.\n",
        "\n",
        "We will create a DataLoader object for loading the data using the training samples `X_train` and `y_train`.  DataLoader meets the following requirements:\n",
        "\n",
        "1. Use the `TensorDataset` class, to combine the feature tensors `X_train` and  target values `y_train`.\n",
        "2. The data will be loaded in small batches of size 8 using the `batch_size` parameter.\n",
        "3. Use the `shuffle=True` parameter to shuffle the data before each training epoch..\n"
      ]
    },
    {
      "cell_type": "code",
      "execution_count": 19,
      "metadata": {
        "id": "WKdkptY7DMAc"
      },
      "outputs": [],
      "source": [
        "train_ds = TensorDataset(X_train, y_train)\n",
        "data_loader = DataLoader(dataset=train_ds, batch_size=8, shuffle=True)\n",
        "test_ds = TensorDataset(X_test, y_test)\n",
        "data_loader_test = DataLoader(dataset=test_ds, batch_size=8, shuffle=True)"
      ]
    },
    {
      "cell_type": "code",
      "execution_count": 20,
      "metadata": {},
      "outputs": [
        {
          "data": {
            "text/plain": [
              "[tensor([[277.],\n",
              "         [193.],\n",
              "         [121.],\n",
              "         [163.],\n",
              "         [302.],\n",
              "         [284.],\n",
              "         [234.],\n",
              "         [148.]]),\n",
              " tensor([[317.],\n",
              "         [181.],\n",
              "         [135.],\n",
              "         [172.],\n",
              "         [293.],\n",
              "         [277.],\n",
              "         [264.],\n",
              "         [148.]])]"
            ]
          },
          "execution_count": 20,
          "metadata": {},
          "output_type": "execute_result"
        }
      ],
      "source": [
        "next(iter(data_loader))"
      ]
    },
    {
      "cell_type": "markdown",
      "metadata": {
        "id": "6ZaGh7IF2nfT"
      },
      "source": [
        "**Task 6**.\n",
        "\n",
        "1. We will implement the training of the neural network `AirModel` for time series forecasting using the Adam optimizer and the MSE (Mean Squared Error) loss function..\n",
        "2. We will create a training loop for 2000 epochs, where in each epoch:\n",
        "\t-\tPerform a training step for the model (forward pass, compute loss, backward pass, and update weights).\n",
        "\t-\tCalculate the average loss for each batch of data and store it in a list called `losses`.\n",
        "3. Every 100 epochs, we validate the model:\n",
        "\t-\tEvaluate the model on the training and test data without updating the weights.\n",
        "\t-\tCompute the root mean squared error (RMSE) for both the training and test datasets and print the results to the screen..\n",
        "   "
      ]
    },
    {
      "cell_type": "code",
      "execution_count": 21,
      "metadata": {},
      "outputs": [],
      "source": [
        "optimizer = torch.optim.Adam(air_model.parameters())\n",
        "loss_fn = F.mse_loss"
      ]
    },
    {
      "cell_type": "code",
      "execution_count": 22,
      "metadata": {
        "id": "pEVnWusrDNTt"
      },
      "outputs": [],
      "source": [
        "def train(model, data_loader, optimizer, loss_fn):\n",
        "    lossSum = 0\n",
        "    for X, y in data_loader:\n",
        "        optimizer.zero_grad()\n",
        "        output = model(X)\n",
        "        loss = loss_fn(output, y)\n",
        "        loss.backward()\n",
        "        optimizer.step()\n",
        "        lossSum += loss.item()\n",
        "    return lossSum/len(data_loader)\n",
        "    \n",
        "def validate(model, data_loader):\n",
        "    lossSum = 0\n",
        "    with torch.no_grad():\n",
        "        for X, y in data_loader:\n",
        "            output = model(X)\n",
        "            loss = mean_squared_error(output, y, squared=False)\n",
        "            lossSum += loss\n",
        "    return lossSum/len(data_loader)"
      ]
    },
    {
      "cell_type": "code",
      "execution_count": 23,
      "metadata": {},
      "outputs": [
        {
          "name": "stdout",
          "output_type": "stream",
          "text": [
            "Epoch 0: train RMSE 223.74285507202148, test RMSE 421.8088785807292\n",
            "Epoch 100: train RMSE 180.38516489664713, test RMSE 376.00275166829425\n",
            "Epoch 200: train RMSE 145.10284233093262, test RMSE 335.375727335612\n",
            "Epoch 300: train RMSE 114.29212125142415, test RMSE 300.1472676595052\n",
            "Epoch 400: train RMSE 91.62676938374837, test RMSE 270.5896962483724\n",
            "Epoch 500: train RMSE 74.55192025502522, test RMSE 245.35860697428384\n",
            "Epoch 600: train RMSE 53.37511173884074, test RMSE 215.29258728027344\n",
            "Epoch 700: train RMSE 43.7944286664327, test RMSE 186.0445810953776\n",
            "Epoch 800: train RMSE 35.31006534894308, test RMSE 166.93909962972006\n",
            "Epoch 900: train RMSE 32.434616247812905, test RMSE 154.84982299804688\n",
            "Epoch 1000: train RMSE 31.982078234354656, test RMSE 138.0397160847982\n",
            "Epoch 1100: train RMSE 24.985144297281902, test RMSE 123.99397150675456\n",
            "Epoch 1200: train RMSE 24.30263344446818, test RMSE 118.14790217081706\n",
            "Epoch 1300: train RMSE 23.698057333628338, test RMSE 110.5257174173991\n",
            "Epoch 1400: train RMSE 21.694446961085003, test RMSE 108.26618830362956\n",
            "Epoch 1500: train RMSE 25.1456933816274, test RMSE 97.17652893066406\n",
            "Epoch 1600: train RMSE 22.979129791259766, test RMSE 100.78672663370769\n",
            "Epoch 1700: train RMSE 22.20112180709839, test RMSE 92.12000974019368\n",
            "Epoch 1800: train RMSE 25.210965156555176, test RMSE 92.06634203592937\n",
            "Epoch 1900: train RMSE 21.784491539001465, test RMSE 93.1499392191569\n"
          ]
        }
      ],
      "source": [
        "num_epochs = 2000\n",
        "losses = []\n",
        "for i in range(num_epochs):   \n",
        "    air_model.train()\n",
        "    mse = train(air_model, data_loader, optimizer, loss_fn)\n",
        "    losses.append(mse)\n",
        "    if i % 100 == 0:\n",
        "        air_model.eval()\n",
        "        rmse_train = validate(air_model, data_loader)\n",
        "        rmse_test = validate(air_model, data_loader_test)\n",
        "        print(f'Epoch {i}: train RMSE {rmse_train}, test RMSE {rmse_test}')\n",
        "    "
      ]
    },
    {
      "cell_type": "markdown",
      "metadata": {
        "id": "m0sIo4kp5X_s"
      },
      "source": [
        "**Task 7.** Plot the loss graph"
      ]
    },
    {
      "cell_type": "code",
      "execution_count": 25,
      "metadata": {},
      "outputs": [],
      "source": [
        "air_model.eval()\n",
        "t = air_model(X_train[0:5])"
      ]
    },
    {
      "cell_type": "code",
      "execution_count": 26,
      "metadata": {
        "id": "AS2USLRq76up"
      },
      "outputs": [
        {
          "data": {
            "text/plain": [
              "[<matplotlib.lines.Line2D at 0x17ad2f090>]"
            ]
          },
          "execution_count": 26,
          "metadata": {},
          "output_type": "execute_result"
        },
        {
          "data": {
            "image/png": "[encoded data removed]",
            "text/plain": [
              "<Figure size 640x480 with 1 Axes>"
            ]
          },
          "metadata": {},
          "output_type": "display_data"
        }
      ],
      "source": [
        "plt.plot(losses)"
      ]
    },
    {
      "cell_type": "markdown",
      "metadata": {
        "id": "8eBoUQVB5p0h"
      },
      "source": [
        "The model has learned, but it’s not certain that it’s accurate."
      ]
    },
    {
      "cell_type": "code",
      "execution_count": null,
      "metadata": {
        "id": "ZznU2AK0vES5"
      },
      "outputs": [],
      "source": [
        "timeseries = torch.tensor(np.array(passengers), dtype=torch.float32)\n",
        "def plot_predicts(air_model):\n",
        "  with torch.no_grad():\n",
        "      # Shift predictions for training data\n",
        "      train_plot = np.ones_like(timeseries) * np.nan\n",
        "      y_pred = air_model(X_train)\n",
        "      y_pred = y_pred[:, -1]\n",
        "      train_plot[lookback:train_count] = air_model(X_train)[:, -1]\n",
        "\n",
        "      # Shift predictions for test data\n",
        "      test_plot = np.ones_like(timeseries) * np.nan\n",
        "      test_plot[train_count+lookback:len(timeseries)] = air_model(X_test)[:, -1]\n",
        "\n",
        "  # Visualization of results\n",
        "  plt.plot(timeseries, c='b')  # Actual data\n",
        "  plt.plot(train_plot, c='r')  # Predictions on training data\n",
        "  plt.plot(test_plot, c='g')   # redictions on test data\n",
        "  plt.show()\n",
        "\n",
        "plot_predicts(air_model)"
      ]
    },
    {
      "cell_type": "markdown",
      "metadata": {
        "id": "ahPW3iiJDg1R"
      },
      "source": [
        "The shift of predictions for training and test data allows us to visually compare how well the model predicts on both the training and test sets. Typically, the red line (training predictions) should closely match the blue line (actual data), while the green line (test predictions) shows how well the model performs on new data that it has not seen before."
      ]
    },
    {
      "cell_type": "markdown",
      "metadata": {
        "id": "PhoeHLus-xIr"
      },
      "source": [
        "**Task 8**. Lets's build model with hidden_size=100 and compare results"
      ]
    },
    {
      "cell_type": "code",
      "execution_count": 32,
      "metadata": {
        "id": "92032N_E_PxY"
      },
      "outputs": [
        {
          "name": "stdout",
          "output_type": "stream",
          "text": [
            "Epoch 0: train RMSE 225.26438522338867, test RMSE 419.8578389485677\n",
            "Epoch 100: train RMSE 130.1850153605143, test RMSE 320.629633585612\n",
            "Epoch 200: train RMSE 81.23304557800293, test RMSE 258.5445073445638\n",
            "Epoch 300: train RMSE 51.79187289873759, test RMSE 211.4574228922526\n",
            "Epoch 400: train RMSE 38.277294635772705, test RMSE 178.4567667643229\n",
            "Epoch 500: train RMSE 30.213857650756836, test RMSE 146.4240926106771\n",
            "Epoch 600: train RMSE 26.30293329556783, test RMSE 128.87952931722006\n",
            "Epoch 700: train RMSE 24.224491278330486, test RMSE 111.26810201009114\n",
            "Epoch 800: train RMSE 25.717039227485657, test RMSE 108.40205001831055\n",
            "Epoch 900: train RMSE 25.102402687072754, test RMSE 99.35118611653645\n",
            "Epoch 1000: train RMSE 24.881570895512898, test RMSE 96.23900985717773\n",
            "Epoch 1100: train RMSE 22.081539789835613, test RMSE 87.39813486735027\n",
            "Epoch 1200: train RMSE 24.2040376663208, test RMSE 94.12959416707356\n",
            "Epoch 1300: train RMSE 23.421221653620403, test RMSE 94.14175160725911\n",
            "Epoch 1400: train RMSE 22.09307607014974, test RMSE 80.57943979899089\n",
            "Epoch 1500: train RMSE 21.663692553838093, test RMSE 82.60045178731282\n",
            "Epoch 1600: train RMSE 23.6130428314209, test RMSE 86.63823636372884\n",
            "Epoch 1700: train RMSE 22.441392024358112, test RMSE 86.35752360026042\n",
            "Epoch 1800: train RMSE 22.60706575711568, test RMSE 88.77683512369792\n",
            "Epoch 1900: train RMSE 23.773398478825886, test RMSE 79.03945922851562\n",
            "Epoch 2000: train RMSE 23.10974446932475, test RMSE 81.52256965637207\n",
            "Epoch 2100: train RMSE 23.04470483462016, test RMSE 78.67670059204102\n",
            "Epoch 2200: train RMSE 22.738629579544067, test RMSE 67.56151835123698\n",
            "Epoch 2300: train RMSE 22.65026577313741, test RMSE 85.10719871520996\n",
            "Epoch 2400: train RMSE 23.758816957473755, test RMSE 81.79471079508464\n",
            "Epoch 2500: train RMSE 22.8018581867218, test RMSE 81.03309885660808\n",
            "Epoch 2600: train RMSE 22.691076119740803, test RMSE 75.26503245035808\n",
            "Epoch 2700: train RMSE 22.527023633321125, test RMSE 80.8303934733073\n",
            "Epoch 2800: train RMSE 23.392090638478596, test RMSE 83.12579536437988\n",
            "Epoch 2900: train RMSE 22.441664854685467, test RMSE 86.17224947611491\n",
            "Epoch 3000: train RMSE 21.83942524592082, test RMSE 80.75993092854817\n",
            "Epoch 3100: train RMSE 21.85696013768514, test RMSE 83.06681060791016\n",
            "Epoch 3200: train RMSE 24.653530597686768, test RMSE 83.40519142150879\n",
            "Epoch 3300: train RMSE 22.06982906659444, test RMSE 83.77344640096028\n",
            "Epoch 3400: train RMSE 23.02575373649597, test RMSE 81.33174896240234\n",
            "Epoch 3500: train RMSE 21.406478881835938, test RMSE 71.85835266113281\n",
            "Epoch 3600: train RMSE 23.874764521916706, test RMSE 75.676038424174\n",
            "Epoch 3700: train RMSE 22.922390540440876, test RMSE 74.89587783813477\n",
            "Epoch 3800: train RMSE 22.56761662165324, test RMSE 80.86970710754395\n",
            "Epoch 3900: train RMSE 21.456241687138874, test RMSE 73.22624842325847\n",
            "Epoch 4000: train RMSE 21.676501512527466, test RMSE 80.06791305541992\n",
            "Epoch 4100: train RMSE 22.30891180038452, test RMSE 74.8330529530843\n",
            "Epoch 4200: train RMSE 22.931784947713215, test RMSE 73.74014409383138\n",
            "Epoch 4300: train RMSE 23.270848115285236, test RMSE 76.9497521718343\n",
            "Epoch 4400: train RMSE 22.855550289154053, test RMSE 78.5129337310791\n",
            "Epoch 4500: train RMSE 22.908872922261555, test RMSE 80.24569320678711\n",
            "Epoch 4600: train RMSE 24.247915029525757, test RMSE 74.32157770792644\n",
            "Epoch 4700: train RMSE 21.506728569666546, test RMSE 79.74007415771484\n",
            "Epoch 4800: train RMSE 21.750186363856, test RMSE 79.23975817362468\n",
            "Epoch 4900: train RMSE 23.369075298309326, test RMSE 76.38051668802898\n",
            "Epoch 5000: train RMSE 22.732322772343952, test RMSE 78.8312390645345\n",
            "Epoch 5100: train RMSE 21.651080290476482, test RMSE 71.09260813395183\n",
            "Epoch 5200: train RMSE 22.710201422373455, test RMSE 71.25048319498698\n",
            "Epoch 5300: train RMSE 22.76410706837972, test RMSE 75.09309736887614\n",
            "Epoch 5400: train RMSE 22.935097376505535, test RMSE 76.53126462300618\n",
            "Epoch 5500: train RMSE 23.768738985061646, test RMSE 70.70583216349284\n",
            "Epoch 5600: train RMSE 23.377492904663086, test RMSE 74.75345865885417\n",
            "Epoch 5700: train RMSE 22.08592875798543, test RMSE 70.84978834788005\n",
            "Epoch 5800: train RMSE 22.77981360753377, test RMSE 80.73929278055827\n",
            "Epoch 5900: train RMSE 22.36674388249715, test RMSE 76.95317268371582\n",
            "Epoch 6000: train RMSE 24.281209309895832, test RMSE 70.42349433898926\n",
            "Epoch 6100: train RMSE 23.99611743291219, test RMSE 86.88605308532715\n",
            "Epoch 6200: train RMSE 22.093667189280193, test RMSE 75.41315205891927\n",
            "Epoch 6300: train RMSE 22.579386234283447, test RMSE 79.90600840250652\n",
            "Epoch 6400: train RMSE 21.534485578536987, test RMSE 73.50918388366699\n",
            "Epoch 6500: train RMSE 22.13990060488383, test RMSE 77.1421464284261\n",
            "Epoch 6600: train RMSE 22.98382806777954, test RMSE 75.11753908793132\n",
            "Epoch 6700: train RMSE 22.28703737258911, test RMSE 76.19216028849284\n",
            "Epoch 6800: train RMSE 24.99509636561076, test RMSE 74.13097699483235\n",
            "Epoch 6900: train RMSE 21.531887133916218, test RMSE 77.28569157918294\n",
            "Epoch 7000: train RMSE 22.239391406377155, test RMSE 77.7895139058431\n",
            "Epoch 7100: train RMSE 22.160279035568237, test RMSE 80.60212707519531\n",
            "Epoch 7200: train RMSE 20.635055939356487, test RMSE 74.51561101277669\n",
            "Epoch 7300: train RMSE 21.867621580759685, test RMSE 69.83387819925944\n",
            "Epoch 7400: train RMSE 23.415088256200153, test RMSE 75.12949053446452\n",
            "Epoch 7500: train RMSE 21.491907993952434, test RMSE 76.7221508026123\n",
            "Epoch 7600: train RMSE 21.770437399546307, test RMSE 78.1150894165039\n",
            "Epoch 7700: train RMSE 22.213107983271282, test RMSE 73.62058575948079\n",
            "Epoch 7800: train RMSE 23.122260967890423, test RMSE 78.02326838175456\n",
            "Epoch 7900: train RMSE 21.95887851715088, test RMSE 75.0113296508789\n",
            "Epoch 8000: train RMSE 22.12759558359782, test RMSE 82.96745936075847\n",
            "Epoch 8100: train RMSE 21.740116437276203, test RMSE 76.03469340006511\n",
            "Epoch 8200: train RMSE 22.022406101226807, test RMSE 79.22092310587566\n",
            "Epoch 8300: train RMSE 20.789708614349365, test RMSE 81.80030568440755\n",
            "Epoch 8400: train RMSE 22.11197805404663, test RMSE 73.14348411560059\n",
            "Epoch 8500: train RMSE 22.50370192527771, test RMSE 80.92850875854492\n",
            "Epoch 8600: train RMSE 22.043807665507, test RMSE 78.0394344329834\n",
            "Epoch 8700: train RMSE 22.31614025433858, test RMSE 79.48074340820312\n",
            "Epoch 8800: train RMSE 22.92334286371867, test RMSE 75.27188046773274\n",
            "Epoch 8900: train RMSE 22.150391817092896, test RMSE 78.90431722005208\n",
            "Epoch 9000: train RMSE 22.169716755549114, test RMSE 75.48111406962077\n",
            "Epoch 9100: train RMSE 22.332796653111775, test RMSE 75.38948249816895\n",
            "Epoch 9200: train RMSE 20.95693349838257, test RMSE 79.25792948404948\n",
            "Epoch 9300: train RMSE 23.753214200337727, test RMSE 78.94040425618489\n",
            "Epoch 9400: train RMSE 22.313470522562664, test RMSE 80.58716074625652\n",
            "Epoch 9500: train RMSE 21.975287437438965, test RMSE 81.30398877461751\n",
            "Epoch 9600: train RMSE 22.57198683420817, test RMSE 79.06526438395183\n",
            "Epoch 9700: train RMSE 21.77791738510132, test RMSE 77.10585339864095\n",
            "Epoch 9800: train RMSE 25.397961457570393, test RMSE 88.90609359741211\n",
            "Epoch 9900: train RMSE 24.70244638125102, test RMSE 74.89945475260417\n",
            "Epoch 10000: train RMSE 22.168670495351154, test RMSE 74.84455808003743\n",
            "Epoch 10100: train RMSE 21.929630041122437, test RMSE 68.83287239074707\n",
            "Epoch 10200: train RMSE 21.619483947753906, test RMSE 76.79310925801595\n",
            "Epoch 10300: train RMSE 21.39642643928528, test RMSE 73.76701164245605\n",
            "Epoch 10400: train RMSE 23.66219933827718, test RMSE 72.7922134399414\n",
            "Epoch 10500: train RMSE 22.18338902791341, test RMSE 70.33470408121745\n",
            "Epoch 10600: train RMSE 21.75259232521057, test RMSE 72.21310615539551\n",
            "Epoch 10700: train RMSE 23.29992961883545, test RMSE 72.75045585632324\n",
            "Epoch 10800: train RMSE 22.081103324890137, test RMSE 77.63075892130534\n",
            "Epoch 10900: train RMSE 22.11000720659892, test RMSE 75.38267199198405\n",
            "Epoch 11000: train RMSE 21.622932195663452, test RMSE 73.39669481913249\n",
            "Epoch 11100: train RMSE 22.450150807698567, test RMSE 69.73850059509277\n",
            "Epoch 11200: train RMSE 23.45764907201131, test RMSE 75.30284245808919\n",
            "Epoch 11300: train RMSE 21.857069492340088, test RMSE 74.6725247701009\n",
            "Epoch 11400: train RMSE 21.386977513631184, test RMSE 76.96433957417806\n",
            "Epoch 11500: train RMSE 21.199563185373943, test RMSE 69.24414316813152\n",
            "Epoch 11600: train RMSE 22.084524869918823, test RMSE 73.64208539326985\n",
            "Epoch 11700: train RMSE 23.154969692230225, test RMSE 69.34316507975261\n",
            "Epoch 11800: train RMSE 21.830323219299316, test RMSE 76.4731502532959\n",
            "Epoch 11900: train RMSE 21.525246739387512, test RMSE 80.54641469319661\n",
            "Epoch 12000: train RMSE 22.35419988632202, test RMSE 76.36564826965332\n",
            "Epoch 12100: train RMSE 22.1844318707784, test RMSE 80.93573633829753\n",
            "Epoch 12200: train RMSE 22.58053509394328, test RMSE 80.09954643249512\n",
            "Epoch 12300: train RMSE 22.701612790425617, test RMSE 72.08969561258952\n",
            "Epoch 12400: train RMSE 22.724441448847454, test RMSE 80.45791371663411\n",
            "Epoch 12500: train RMSE 21.352204481760662, test RMSE 75.95272572835286\n",
            "Epoch 12600: train RMSE 22.21135401725769, test RMSE 71.83786519368489\n",
            "Epoch 12700: train RMSE 22.47266435623169, test RMSE 78.75303014119466\n",
            "Epoch 12800: train RMSE 22.233242750167847, test RMSE 72.09013748168945\n",
            "Epoch 12900: train RMSE 21.283253987630207, test RMSE 68.93203926086426\n",
            "Epoch 13000: train RMSE 20.888070583343506, test RMSE 74.51874542236328\n",
            "Epoch 13100: train RMSE 21.96853192647298, test RMSE 74.22532717386882\n",
            "Epoch 13200: train RMSE 21.72272817293803, test RMSE 78.36573028564453\n",
            "Epoch 13300: train RMSE 22.976321299870808, test RMSE 70.70491027832031\n",
            "Epoch 13400: train RMSE 22.352437893549602, test RMSE 78.45555877685547\n",
            "Epoch 13500: train RMSE 22.207705815633137, test RMSE 77.55735397338867\n",
            "Epoch 13600: train RMSE 21.204039096832275, test RMSE 70.58232593536377\n",
            "Epoch 13700: train RMSE 21.663000106811523, test RMSE 70.3545659383138\n",
            "Epoch 13800: train RMSE 21.908888657887776, test RMSE 76.69150924682617\n",
            "Epoch 13900: train RMSE 21.87012592951457, test RMSE 69.14056015014648\n",
            "Epoch 14000: train RMSE 22.544206857681274, test RMSE 71.26938056945801\n",
            "Epoch 14100: train RMSE 20.64222796758016, test RMSE 77.44398180643718\n",
            "Epoch 14200: train RMSE 22.02546262741089, test RMSE 76.33113861083984\n",
            "Epoch 14300: train RMSE 21.651540835698444, test RMSE 70.0277868906657\n",
            "Epoch 14400: train RMSE 20.947420835494995, test RMSE 73.55932712554932\n",
            "Epoch 14500: train RMSE 22.04915197690328, test RMSE 75.44494756062825\n",
            "Epoch 14600: train RMSE 22.31237268447876, test RMSE 71.90522766113281\n",
            "Epoch 14700: train RMSE 22.06304868062337, test RMSE 77.65220324198405\n",
            "Epoch 14800: train RMSE 21.43815016746521, test RMSE 70.3304271697998\n",
            "Epoch 14900: train RMSE 21.46801010767619, test RMSE 77.75257110595703\n",
            "Epoch 15000: train RMSE 21.773250500361126, test RMSE 76.25176429748535\n",
            "Epoch 15100: train RMSE 22.621912320454914, test RMSE 74.2200533548991\n",
            "Epoch 15200: train RMSE 22.11828311284383, test RMSE 69.5558255513509\n",
            "Epoch 15300: train RMSE 22.594449122746784, test RMSE 76.0740515391032\n",
            "Epoch 15400: train RMSE 21.755959113438923, test RMSE 72.90682029724121\n",
            "Epoch 15500: train RMSE 20.80686871210734, test RMSE 76.60760879516602\n",
            "Epoch 15600: train RMSE 22.292346556981403, test RMSE 77.62652905782063\n",
            "Epoch 15700: train RMSE 20.794591188430786, test RMSE 75.79107030232747\n",
            "Epoch 15800: train RMSE 21.677416960398357, test RMSE 83.02728843688965\n",
            "Epoch 15900: train RMSE 21.403467734654743, test RMSE 77.0838197072347\n",
            "Epoch 16000: train RMSE 21.23239549001058, test RMSE 79.07729848225911\n",
            "Epoch 16100: train RMSE 21.564698934555054, test RMSE 72.98814392089844\n",
            "Epoch 16200: train RMSE 21.520614703496296, test RMSE 74.52743085225423\n",
            "Epoch 16300: train RMSE 20.883160909016926, test RMSE 73.5312105814616\n",
            "Epoch 16400: train RMSE 21.487903038660686, test RMSE 74.5856221516927\n",
            "Epoch 16500: train RMSE 21.690467913945515, test RMSE 77.41245396931966\n",
            "Epoch 16600: train RMSE 21.24087889989217, test RMSE 74.57739512125652\n",
            "Epoch 16700: train RMSE 23.132740020751953, test RMSE 78.32218933105469\n",
            "Epoch 16800: train RMSE 20.578572273254395, test RMSE 81.07639058430989\n",
            "Epoch 16900: train RMSE 22.033556779225666, test RMSE 80.1611213684082\n",
            "Epoch 17000: train RMSE 20.09745709101359, test RMSE 73.8647476832072\n",
            "Epoch 17100: train RMSE 21.1842524210612, test RMSE 72.90458424886067\n",
            "Epoch 17200: train RMSE 21.65978741645813, test RMSE 71.74336942036946\n",
            "Epoch 17300: train RMSE 20.43809723854065, test RMSE 80.705504099528\n",
            "Epoch 17400: train RMSE 22.710681676864624, test RMSE 70.93614482879639\n",
            "Epoch 17500: train RMSE 22.148754199345905, test RMSE 73.27616628011067\n",
            "Epoch 17600: train RMSE 21.336399157842, test RMSE 71.78414408365886\n",
            "Epoch 17700: train RMSE 21.62030307451884, test RMSE 77.25539716084798\n",
            "Epoch 17800: train RMSE 21.818387667338055, test RMSE 73.95190874735515\n",
            "Epoch 17900: train RMSE 20.66576321919759, test RMSE 73.2130864461263\n",
            "Epoch 18000: train RMSE 21.11919927597046, test RMSE 73.23280461629231\n",
            "Epoch 18100: train RMSE 20.97668441136678, test RMSE 78.95703188578288\n",
            "Epoch 18200: train RMSE 21.433226982752483, test RMSE 74.51710001627605\n",
            "Epoch 18300: train RMSE 21.115669806798298, test RMSE 74.47359466552734\n",
            "Epoch 18400: train RMSE 21.616910934448242, test RMSE 75.87022527058919\n",
            "Epoch 18500: train RMSE 21.217249631881714, test RMSE 67.89219347635905\n",
            "Epoch 18600: train RMSE 21.327321767807007, test RMSE 82.0597604115804\n",
            "Epoch 18700: train RMSE 20.79108778635661, test RMSE 75.17940966288249\n",
            "Epoch 18800: train RMSE 21.727575381596882, test RMSE 76.41177622477214\n",
            "Epoch 18900: train RMSE 21.60178581873576, test RMSE 75.85936546325684\n",
            "Epoch 19000: train RMSE 21.869597276051838, test RMSE 78.78370666503906\n",
            "Epoch 19100: train RMSE 20.93345284461975, test RMSE 72.23848152160645\n",
            "Epoch 19200: train RMSE 20.73922673861186, test RMSE 71.02858479817708\n",
            "Epoch 19300: train RMSE 20.962760368982952, test RMSE 69.51751772562663\n",
            "Epoch 19400: train RMSE 21.938121636708576, test RMSE 75.46352450052898\n",
            "Epoch 19500: train RMSE 21.169943412144978, test RMSE 73.23235829671223\n",
            "Epoch 19600: train RMSE 21.175092856089275, test RMSE 72.17860539754231\n",
            "Epoch 19700: train RMSE 20.924760182698567, test RMSE 78.67695299784343\n",
            "Epoch 19800: train RMSE 21.695093949635822, test RMSE 74.19488461812337\n",
            "Epoch 19900: train RMSE 21.464420477549236, test RMSE 74.99890200297038\n"
          ]
        }
      ],
      "source": [
        "air_model_100 = AirModel(1, 100, 1)\n",
        "num_epochs = 20000\n",
        "losses_100 = []\n",
        "optimizer_100 = torch.optim.Adam(air_model_100.parameters(), lr=0.001)\n",
        "loss_fn_100 = F.mse_loss\n",
        "for i in range(num_epochs):   \n",
        "    air_model_100.train()\n",
        "    mse = train(air_model_100, data_loader, optimizer_100, loss_fn_100)\n",
        "    losses_100.append(mse)\n",
        "    if i % 100 == 0:\n",
        "        air_model_100.eval()\n",
        "        rmse_train = validate(air_model_100, data_loader)\n",
        "        rmse_test = validate(air_model_100, data_loader_test)\n",
        "        print(f'Epoch {i}: train RMSE {rmse_train}, test RMSE {rmse_test}')"
      ]
    },
    {
      "cell_type": "code",
      "execution_count": 35,
      "metadata": {},
      "outputs": [
        {
          "data": {
            "text/plain": [
              "[<matplotlib.lines.Line2D at 0x30d2a71d0>]"
            ]
          },
          "execution_count": 35,
          "metadata": {},
          "output_type": "execute_result"
        },
        {
          "data": {
            "image/png": "[encoded data removed]",
            "text/plain": [
              "<Figure size 640x480 with 1 Axes>"
            ]
          },
          "metadata": {},
          "output_type": "display_data"
        }
      ],
      "source": [
        "plt.plot(losses_100[500:])"
      ]
    },
    {
      "cell_type": "code",
      "execution_count": 36,
      "metadata": {},
      "outputs": [
        {
          "data": {
            "image/png": "[encoded data removed]",
            "text/plain": [
              "<Figure size 640x480 with 1 Axes>"
            ]
          },
          "metadata": {},
          "output_type": "display_data"
        }
      ],
      "source": [
        "plot_predicts(air_model_100)"
      ]
    },
    {
      "cell_type": "markdown",
      "metadata": {},
      "source": [
        "By increasing the number of training epochs and decreasing the learning rate, some improvement in results was achieved."
      ]
    }
  ],
  "metadata": {
    "colab": {
      "provenance": []
    },
    "kernelspec": {
      "display_name": "base",
      "language": "python",
      "name": "python3"
    },
    "language_info": {
      "codemirror_mode": {
        "name": "ipython",
        "version": 3
      },
      "file_extension": ".py",
      "mimetype": "text/x-python",
      "name": "python",
      "nbconvert_exporter": "python",
      "pygments_lexer": "ipython3",
      "version": "3.11.8"
    }
  },
  "nbformat": 4,
  "nbformat_minor": 0
}
